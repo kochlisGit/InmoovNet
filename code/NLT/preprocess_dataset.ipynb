{
 "cells": [
  {
   "cell_type": "code",
   "execution_count": null,
   "metadata": {},
   "outputs": [],
   "source": [
    "import whisper\n",
    "import torch\n",
    "import numpy as np\n",
    "import sounddevice as sd\n",
    "import os\n",
    "from sentence_transformers import SentenceTransformer\n",
    "import pandas as pd\n",
    "from IPython.display import Audio, display\n",
    "from huggingface_hub import login"
   ]
  },
  {
   "cell_type": "code",
   "execution_count": null,
   "metadata": {},
   "outputs": [],
   "source": [
    "# Load the sheet named \"Merged\" from the Excel file\n",
    "df = pd.read_excel(\"Hand_Signs.xlsx\", sheet_name=\"Merged\", header=None)\n",
    "\n",
    "# Rename the columns\n",
    "df.columns = [\"Text\", \"Pose_Sequence\"]"
   ]
  },
  {
   "cell_type": "code",
   "execution_count": 3,
   "metadata": {},
   "outputs": [],
   "source": [
    "# Normalize the \"Poses sequences\" column to always be a list of integers\n",
    "def parse_pose_sequence(val):\n",
    "    if isinstance(val, list):\n",
    "        return val\n",
    "    if pd.isna(val):  # Check for NaN\n",
    "        return []\n",
    "    if isinstance(val, (int, float)):\n",
    "        return [int(val)]\n",
    "    if isinstance(val, str):\n",
    "        # Filter out empty strings before converting\n",
    "        return [int(x.strip()) for x in val.split(\",\") if x.strip().isdigit()]\n",
    "    return []\n",
    "\n",
    "df[\"Pose_Sequence\"] = df[\"Pose_Sequence\"].apply(parse_pose_sequence)"
   ]
  },
  {
   "cell_type": "markdown",
   "metadata": {},
   "source": [
    "### Add embeddings column"
   ]
  },
  {
   "cell_type": "code",
   "execution_count": null,
   "metadata": {},
   "outputs": [],
   "source": [
    "# Login to hugging face \n",
    "login(token=\"hugging_face_token\")"
   ]
  },
  {
   "cell_type": "code",
   "execution_count": null,
   "metadata": {},
   "outputs": [
    {
     "name": "stdout",
     "output_type": "stream",
     "text": [
      "WARNING:tensorflow:From c:\\Users\\mosch\\Documents\\GitHub\\Robotic-Arm-Control-using-Deep-Learning\\thesisEnv\\lib\\site-packages\\tf_keras\\src\\losses.py:2976: The name tf.losses.sparse_softmax_cross_entropy is deprecated. Please use tf.compat.v1.losses.sparse_softmax_cross_entropy instead.\n",
      "\n",
      "Embedding model loaded successfully!\n"
     ]
    }
   ],
   "source": [
    "# Load the model (downloads on first run)\n",
    "embedding_model = SentenceTransformer('sentence-transformers/all-MiniLM-L12-v2')\n",
    "print(\"Embedding model loaded successfully!\")\n",
    "\n",
    "def text_to_embeddings(text):\n",
    "    \"\"\"Converts English text to embeddings using SentenceTransformer.\"\"\"\n",
    "    embeddings = embedding_model.encode(text, convert_to_tensor=True)\n",
    "    return embeddings.numpy()  # Return as NumPy array for easier handling"
   ]
  },
  {
   "cell_type": "code",
   "execution_count": 6,
   "metadata": {},
   "outputs": [
    {
     "data": {
      "text/html": [
       "<div>\n",
       "<style scoped>\n",
       "    .dataframe tbody tr th:only-of-type {\n",
       "        vertical-align: middle;\n",
       "    }\n",
       "\n",
       "    .dataframe tbody tr th {\n",
       "        vertical-align: top;\n",
       "    }\n",
       "\n",
       "    .dataframe thead th {\n",
       "        text-align: right;\n",
       "    }\n",
       "</style>\n",
       "<table border=\"1\" class=\"dataframe\">\n",
       "  <thead>\n",
       "    <tr style=\"text-align: right;\">\n",
       "      <th></th>\n",
       "      <th>Text</th>\n",
       "      <th>Embeddings</th>\n",
       "      <th>Pose_Sequence</th>\n",
       "    </tr>\n",
       "  </thead>\n",
       "  <tbody>\n",
       "    <tr>\n",
       "      <th>0</th>\n",
       "      <td>Show me 1</td>\n",
       "      <td>[-0.02809363603591919, 0.019465146586298943, -...</td>\n",
       "      <td>[1]</td>\n",
       "    </tr>\n",
       "    <tr>\n",
       "      <th>1</th>\n",
       "      <td>Show me 2</td>\n",
       "      <td>[-0.0219540074467659, 0.036779001355171204, -0...</td>\n",
       "      <td>[2]</td>\n",
       "    </tr>\n",
       "    <tr>\n",
       "      <th>2</th>\n",
       "      <td>Show me 3</td>\n",
       "      <td>[-0.01712719351053238, -0.007692048326134682, ...</td>\n",
       "      <td>[3]</td>\n",
       "    </tr>\n",
       "    <tr>\n",
       "      <th>3</th>\n",
       "      <td>Show me 4</td>\n",
       "      <td>[-0.011031582951545715, 0.0035835669841617346,...</td>\n",
       "      <td>[4]</td>\n",
       "    </tr>\n",
       "    <tr>\n",
       "      <th>4</th>\n",
       "      <td>Show me 5</td>\n",
       "      <td>[-0.07056542485952377, -0.027202408760786057, ...</td>\n",
       "      <td>[5]</td>\n",
       "    </tr>\n",
       "  </tbody>\n",
       "</table>\n",
       "</div>"
      ],
      "text/plain": [
       "        Text                                         Embeddings Pose_Sequence\n",
       "0  Show me 1  [-0.02809363603591919, 0.019465146586298943, -...           [1]\n",
       "1  Show me 2  [-0.0219540074467659, 0.036779001355171204, -0...           [2]\n",
       "2  Show me 3  [-0.01712719351053238, -0.007692048326134682, ...           [3]\n",
       "3  Show me 4  [-0.011031582951545715, 0.0035835669841617346,...           [4]\n",
       "4  Show me 5  [-0.07056542485952377, -0.027202408760786057, ...           [5]"
      ]
     },
     "execution_count": 6,
     "metadata": {},
     "output_type": "execute_result"
    }
   ],
   "source": [
    "# Compute embeddings and insert them in the middle\n",
    "df.insert(loc=1, column=\"Embeddings\", value=df[\"Text\"].apply(text_to_embeddings))\n",
    "df[\"Embeddings\"] = df[\"Embeddings\"].apply(lambda x: x.tolist() if hasattr(x, 'tolist') else x)\n",
    "df.head()\n"
   ]
  },
  {
   "cell_type": "code",
   "execution_count": 7,
   "metadata": {},
   "outputs": [],
   "source": [
    "# Save df to CSV\n",
    "df.to_csv(\"preprocessed_dataset.csv\", index=False)"
   ]
  },
  {
   "cell_type": "markdown",
   "metadata": {},
   "source": [
    "### Read preprocessed csv\n"
   ]
  },
  {
   "cell_type": "code",
   "execution_count": 8,
   "metadata": {},
   "outputs": [],
   "source": [
    "import ast  # for safely evaluating string representations of lists\n",
    "\n",
    "# Define parsing function for lists\n",
    "def parse_list(val):\n",
    "    try:\n",
    "        return ast.literal_eval(val)\n",
    "    except (ValueError, SyntaxError):\n",
    "        return []\n",
    "\n",
    "# Read the CSV and parse list columns\n",
    "df_loaded = pd.read_csv(\"preprocessed_dataset.csv\", converters={\n",
    "    \"Embeddings\": parse_list,\n",
    "    \"Pose_Sequence\": parse_list\n",
    "})\n"
   ]
  },
  {
   "cell_type": "code",
   "execution_count": 9,
   "metadata": {},
   "outputs": [
    {
     "name": "stdout",
     "output_type": "stream",
     "text": [
      "        Text                                         Embeddings Pose_Sequence\n",
      "0  Show me 1  [-0.02809363603591919, 0.019465146586298943, -...           [1]\n",
      "1  Show me 2  [-0.0219540074467659, 0.036779001355171204, -0...           [2]\n",
      "2  Show me 3  [-0.01712719351053238, -0.007692048326134682, ...           [3]\n",
      "3  Show me 4  [-0.011031582951545715, 0.0035835669841617346,...           [4]\n",
      "4  Show me 5  [-0.07056542485952377, -0.027202408760786057, ...           [5]\n",
      "Text             object\n",
      "Embeddings       object\n",
      "Pose_Sequence    object\n",
      "dtype: object\n"
     ]
    }
   ],
   "source": [
    "print(df_loaded.head())\n",
    "print(df_loaded.dtypes)\n"
   ]
  }
 ],
 "metadata": {
  "kernelspec": {
   "display_name": "thesisEnv",
   "language": "python",
   "name": "python3"
  },
  "language_info": {
   "codemirror_mode": {
    "name": "ipython",
    "version": 3
   },
   "file_extension": ".py",
   "mimetype": "text/x-python",
   "name": "python",
   "nbconvert_exporter": "python",
   "pygments_lexer": "ipython3",
   "version": "3.9.13"
  }
 },
 "nbformat": 4,
 "nbformat_minor": 2
}
