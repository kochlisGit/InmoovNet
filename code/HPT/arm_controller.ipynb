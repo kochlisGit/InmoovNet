{
 "cells": [
  {
   "cell_type": "code",
   "execution_count": null,
   "metadata": {},
   "outputs": [],
   "source": [
    "import cv2\n",
    "import mediapipe as mp\n",
    "from mediapipe.tasks import python\n",
    "from mediapipe.tasks.python import vision\n",
    "import os\n",
    "import time\n",
    "from tqdm import tqdm  # For progress bar\n",
    "from matplotlib import pyplot as plt\n",
    "import plotly.graph_objects as go"
   ]
  },
  {
   "cell_type": "markdown",
   "metadata": {},
   "source": [
    "## Test with video"
   ]
  },
  {
   "cell_type": "markdown",
   "metadata": {},
   "source": [
    "### Setup serial communication"
   ]
  },
  {
   "cell_type": "code",
   "execution_count": null,
   "metadata": {},
   "outputs": [],
   "source": [
    "import serial\n",
    "\n",
    "# Open serial connection to Arduino\n",
    "arduino = serial.Serial(port='COM12', baudrate=115200, timeout=1)  # Adjust COM port as needed"
   ]
  },
  {
   "cell_type": "code",
   "execution_count": null,
   "metadata": {},
   "outputs": [],
   "source": [
    "import serial\n",
    "import threading\n",
    "import time\n",
    "from IPython.display import display\n",
    "import ipywidgets as widgets\n",
    "\n",
    "# Create an output widget\n",
    "output_widget = widgets.Output()\n",
    "display(output_widget)\n",
    "\n",
    "def serial_monitor():\n",
    "    \"\"\" Continuously reads from Arduino and updates output widget in Jupyter. \"\"\"\n",
    "    while True:\n",
    "        if arduino.in_waiting > 0:\n",
    "            line = arduino.readline().decode('utf-8').strip()\n",
    "            with output_widget:\n",
    "                output_widget.clear_output(wait=True)  # Clears old messages dynamically\n",
    "                print(\"Arduino says:\", line)\n",
    "        time.sleep(0.1)  # Prevent excessive CPU usage\n",
    "\n",
    "# Start the serial monitor in a background thread\n",
    "thread = threading.Thread(target=serial_monitor, daemon=True)\n",
    "thread.start()"
   ]
  },
  {
   "cell_type": "markdown",
   "metadata": {},
   "source": [
    "## Process video as frames with mediapipe"
   ]
  },
  {
   "cell_type": "code",
   "execution_count": null,
   "metadata": {},
   "outputs": [],
   "source": [
    "import cv2\n",
    "import mediapipe as mp\n",
    "from mediapipe.tasks import python\n",
    "from mediapipe.tasks.python import vision\n",
    "import os\n",
    "import time\n",
    "from tqdm import tqdm  # For progress bar\n",
    "from matplotlib import pyplot as plt\n",
    "import plotly.graph_objects as go\n",
    "import tensorflow as tf\n",
    "import numpy as np"
   ]
  },
  {
   "cell_type": "code",
   "execution_count": null,
   "metadata": {},
   "outputs": [],
   "source": [
    "final_mlp = tf.keras.models.load_model('final_model.keras')"
   ]
  },
  {
   "cell_type": "code",
   "execution_count": null,
   "metadata": {},
   "outputs": [],
   "source": [
    "scaling_factor = [160.0, 160.0, 160.0, 160.0, 100.0]"
   ]
  },
  {
   "cell_type": "code",
   "execution_count": null,
   "metadata": {},
   "outputs": [],
   "source": [
    "# Define output paths for the original and annotated videos\n",
    "original_video_path = 'cam_video.mp4'\n",
    "annotated_video_path = 'cam_video_annotated.mp4'\n",
    "\n",
    "# Initialize MediaPipe Hands\n",
    "mp_hands = mp.solutions.hands\n",
    "mp_drawing = mp.solutions.drawing_utils\n",
    "hand_detector = mp_hands.Hands(static_image_mode=False, max_num_hands=1, min_detection_confidence=0.5)\n",
    "\n",
    "# Start capturing from the laptop camera\n",
    "cap = cv2.VideoCapture(0)\n",
    "fps = 2  # Adjust FPS as needed\n",
    "width = int(cap.get(cv2.CAP_PROP_FRAME_WIDTH))\n",
    "height = int(cap.get(cv2.CAP_PROP_FRAME_HEIGHT))\n",
    "\n",
    "# Define codecs and VideoWriter objects for both videos\n",
    "fourcc = cv2.VideoWriter_fourcc(*'mp4v')\n",
    "out_original = cv2.VideoWriter(original_video_path, fourcc, fps, (width, height))\n",
    "out_annotated = cv2.VideoWriter(annotated_video_path, fourcc, fps, (width, height))\n",
    "\n",
    "# Set capture duration (in seconds) or None to capture until user stops\n",
    "capture_duration = None  # Set this to a specific duration (e.g., 10) for timed capture or None for manual stop\n",
    "\n",
    "# Start time for timed recording if duration is specified\n",
    "start_time = time.time() if capture_duration is not None else None\n",
    "\n",
    "# Display instructions for manual stop if no duration is set\n",
    "if capture_duration is None:\n",
    "    print(\"Press 'q' to stop the camera recording.\")"
   ]
  },
  {
   "cell_type": "code",
   "execution_count": null,
   "metadata": {},
   "outputs": [],
   "source": [
    "# Continuous processing loop\n",
    "while True:\n",
    "    ret, frame = cap.read()\n",
    "    if not ret:\n",
    "        break\n",
    "\n",
    "    # Save the original frame\n",
    "    out_original.write(frame)\n",
    "\n",
    "    # Convert the frame to RGB for MediaPipe processing\n",
    "    frame_rgb = cv2.cvtColor(frame, cv2.COLOR_BGR2RGB)\n",
    "    \n",
    "    # Process the frame to detect hands\n",
    "    result = hand_detector.process(frame_rgb)\n",
    "    \n",
    "    # Draw hand landmarks if hands are detected\n",
    "    if result.multi_hand_landmarks:\n",
    "        for hand_landmarks in result.multi_hand_landmarks:\n",
    "            mp_drawing.draw_landmarks(frame, hand_landmarks, mp_hands.HAND_CONNECTIONS)\n",
    "    \n",
    "        if len(result.multi_handedness) == 1:\n",
    "            is_left = result.multi_handedness[0].classification[0].label == \"Left\"\n",
    "            world_keypoints = [[i.x,i.y,i.z] for i in result.multi_hand_world_landmarks[0].landmark]   \n",
    "            # Construct the row\n",
    "            print(f\"Is hand left? {is_left}\")\n",
    "            if is_left:\n",
    "                X_test = np.array(world_keypoints).flatten()\n",
    "\n",
    "                X_modified = X_test[3:]  # Shape becomes (a, b-3)\n",
    "                c = (X_modified.shape[0]) // 3  # Compute c\n",
    "                X_test_3d = X_modified.reshape(1,c, 3)\n",
    "\n",
    "                y_pred = final_mlp.predict(X_test_3d)\n",
    "                motor_angles = (y_pred*scaling_factor).round(1)\n",
    "\n",
    "                # Send angles to Arduino as comma-separated string\n",
    "                motor_angles_str = \",\".join(map(str, motor_angles[0])) + \"\\n\"\n",
    "                print(motor_angles_str)\n",
    "                arduino.write((motor_angles_str).encode())\n",
    "                print(\"Sent motor angles:\", motor_angles_str)\n",
    "                \n",
    "    # Display the annotated frame only\n",
    "    cv2.imshow(\"Annotated Camera Feed\", frame)\n",
    "\n",
    "    # Save the annotated frame\n",
    "    out_annotated.write(frame)\n",
    "\n",
    "    # Check if 'q' is pressed for manual stop\n",
    "    if cv2.waitKey(1) & 0xFF == ord('q'):\n",
    "        print(\"Manual stop detected. Ending recording.\")\n",
    "        \n",
    "        # Send reset command to Arduino\n",
    "        arduino.write(\"reset fingers\\n\".encode())\n",
    "        print(\"Sent reset command to Arduino: 'reset fingers'\")\n",
    "        break\n",
    "\n",
    "\n",
    "    # Check if the specified duration has passed for timed stop\n",
    "    if capture_duration is not None and (time.time() - start_time) >= capture_duration:\n",
    "        print(f\"Timed capture complete after {capture_duration} seconds.\")\n",
    "        break\n",
    "\n",
    "# Release resources\n",
    "cap.release()\n",
    "out_original.release()\n",
    "out_annotated.release()\n",
    "hand_detector.close()\n",
    "cv2.destroyAllWindows()\n",
    "\n",
    "# Output save paths\n",
    "print(f\"Original video saved as {original_video_path}\")\n",
    "print(f\"Annotated video saved as {annotated_video_path}\")"
   ]
  },
  {
   "cell_type": "code",
   "execution_count": null,
   "metadata": {},
   "outputs": [],
   "source": [
    "arduino.write(\"reset fingers\\n\".encode())"
   ]
  }
 ],
 "metadata": {
  "kernelspec": {
   "display_name": "thesisEnv",
   "language": "python",
   "name": "python3"
  },
  "language_info": {
   "codemirror_mode": {
    "name": "ipython",
    "version": 3
   },
   "file_extension": ".py",
   "mimetype": "text/x-python",
   "name": "python",
   "nbconvert_exporter": "python",
   "pygments_lexer": "ipython3",
   "version": "3.9.13"
  }
 },
 "nbformat": 4,
 "nbformat_minor": 2
}
